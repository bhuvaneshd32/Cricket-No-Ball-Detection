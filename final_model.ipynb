{
 "cells": [
  {
   "cell_type": "code",
   "execution_count": 25,
   "metadata": {
    "id": "UNzOR7gXqz-u"
   },
   "outputs": [],
   "source": [
    "import tensorflow as tf\n",
    "import numpy as np\n",
    "from tensorflow.keras.preprocessing.image import ImageDataGenerator"
   ]
  },
  {
   "cell_type": "markdown",
   "metadata": {
    "id": "maB3-fDJx0hk"
   },
   "source": [
    "### Model training"
   ]
  },
  {
   "cell_type": "code",
   "execution_count": 26,
   "metadata": {
    "colab": {
     "base_uri": "https://localhost:8080/"
    },
    "id": "zYpZL9O5q6JT",
    "outputId": "4d8b3a86-0a2c-408c-bc82-025376e179f5"
   },
   "outputs": [
    {
     "name": "stdout",
     "output_type": "stream",
     "text": [
      "Found 2225 images belonging to 2 classes.\n"
     ]
    }
   ],
   "source": [
    "train_datagen = ImageDataGenerator(rescale = 1./255,\n",
    "                                   shear_range = 0.2,\n",
    "                                   zoom_range = 0.2,\n",
    "                                   horizontal_flip = True)\n",
    "training_set = train_datagen.flow_from_directory('Large-image-dataset/training',\n",
    "                                                 target_size = (64, 64),\n",
    "                                                 batch_size = 32,\n",
    "                                                 class_mode = 'binary')"
   ]
  },
  {
   "cell_type": "code",
   "execution_count": 27,
   "metadata": {
    "colab": {
     "base_uri": "https://localhost:8080/"
    },
    "id": "SEFaFqYqsND3",
    "outputId": "4a830614-69d4-4ab4-86c4-b97c01be7b04"
   },
   "outputs": [
    {
     "name": "stdout",
     "output_type": "stream",
     "text": [
      "[0 0 0 ... 1 1 1]\n",
      "{'Legal': 762, 'No ball': 1463}\n"
     ]
    }
   ],
   "source": [
    "print(training_set.classes)\n",
    "unique, counts = np.unique(training_set.classes, return_counts=True)\n",
    "print(dict(zip(training_set.class_indices, counts)))"
   ]
  },
  {
   "cell_type": "code",
   "execution_count": 28,
   "metadata": {
    "colab": {
     "base_uri": "https://localhost:8080/"
    },
    "id": "dB_RNEDJ8Bv5",
    "outputId": "653b004d-acc3-45a5-c764-6038fa503297"
   },
   "outputs": [
    {
     "name": "stdout",
     "output_type": "stream",
     "text": [
      "2225\n"
     ]
    }
   ],
   "source": [
    "print(training_set.samples)"
   ]
  },
  {
   "cell_type": "code",
   "execution_count": 29,
   "metadata": {
    "colab": {
     "base_uri": "https://localhost:8080/"
    },
    "id": "6Xg0t4URs1dO",
    "outputId": "49a13376-f8fa-4126-a6b8-2a2c29504842"
   },
   "outputs": [
    {
     "name": "stdout",
     "output_type": "stream",
     "text": [
      "1\n",
      "2\n",
      "3\n",
      "4\n",
      "5\n",
      "6\n",
      "7\n",
      "8\n",
      "9\n",
      "10\n",
      "11\n",
      "12\n",
      "13\n",
      "14\n",
      "15\n",
      "16\n",
      "17\n",
      "18\n",
      "19\n",
      "20\n",
      "21\n",
      "22\n",
      "23\n",
      "24\n",
      "25\n",
      "26\n",
      "27\n",
      "28\n",
      "29\n",
      "30\n",
      "31\n",
      "32\n",
      "33\n",
      "34\n",
      "35\n",
      "36\n",
      "37\n",
      "38\n",
      "39\n",
      "40\n",
      "41\n",
      "42\n",
      "43\n",
      "44\n",
      "45\n",
      "46\n",
      "47\n",
      "48\n",
      "49\n",
      "50\n",
      "51\n",
      "52\n",
      "53\n",
      "54\n",
      "55\n",
      "56\n",
      "57\n",
      "58\n",
      "59\n",
      "60\n",
      "61\n",
      "62\n",
      "63\n",
      "64\n",
      "65\n",
      "66\n",
      "67\n",
      "68\n",
      "69\n",
      "70\n"
     ]
    }
   ],
   "source": [
    "from imblearn.over_sampling import SMOTE\n",
    "from sklearn.utils import shuffle\n",
    "import numpy as np\n",
    "\n",
    "# Initialize empty lists for training data\n",
    "X_train = []\n",
    "y_train = []\n",
    "\n",
    "# Iterate through the training set and collect the data\n",
    "i=1\n",
    "for x, y in training_set:\n",
    "    print(i)\n",
    "    i+=1\n",
    "    X_train.extend(x)\n",
    "    y_train.extend(y)\n",
    "    if len(X_train) >= training_set.samples:\n",
    "        break\n",
    "# Convert the lists into numpy arrays\n",
    "X_train = np.array(X_train)\n",
    "y_train = np.array(y_train)\n",
    "\n",
    "# Reshape the image data to a 2D array (flatten each image)\n",
    "X_train_reshaped = X_train.reshape(X_train.shape[0], -1)\n",
    "\n",
    "# Apply SMOTE to the reshaped training data\n",
    "smote = SMOTE(random_state=42)\n",
    "X_resampled, y_resampled = smote.fit_resample(X_train_reshaped, y_train)\n",
    "\n",
    "# Reshape the resampled data back to its original 4D shape (64x64 images with 3 color channels)\n",
    "X_resampled = X_resampled.reshape(-1, 64, 64, 3)\n",
    "\n",
    "# Shuffle the resampled data\n",
    "X_resampled, y_resampled = shuffle(X_resampled, y_resampled, random_state=42)\n",
    "\n",
    "# Now you have X_resampled and y_resampled with balanced classes\n"
   ]
  },
  {
   "cell_type": "code",
   "execution_count": 30,
   "metadata": {
    "colab": {
     "base_uri": "https://localhost:8080/"
    },
    "id": "eZBerPqo8eXc",
    "outputId": "baa4bed8-ce9a-4002-d816-4fbc46011a84"
   },
   "outputs": [
    {
     "name": "stdout",
     "output_type": "stream",
     "text": [
      "(2926, 64, 64, 3)\n",
      "(2926,)\n"
     ]
    }
   ],
   "source": [
    "print(X_resampled.shape)\n",
    "print(y_resampled.shape)"
   ]
  },
  {
   "cell_type": "code",
   "execution_count": 31,
   "metadata": {
    "id": "AIXJnV7pxKjo"
   },
   "outputs": [],
   "source": [
    "new_datagen = ImageDataGenerator(rescale=1./255)\n",
    "\n",
    "# Create the new training set using the resampled data\n",
    "training_set_resampled = new_datagen.flow(X_resampled, y_resampled, batch_size=32)\n",
    "# Convert X_resampled and y_resampled into a TensorFlow dataset\n",
    "train_dataset = tf.data.Dataset.from_tensor_slices((X_resampled, y_resampled))\n",
    "\n",
    "# Shuffle, batch, and optionally prefetch the data for efficient training\n",
    "training_set = train_dataset.shuffle(buffer_size=1024).batch(32).prefetch(tf.data.experimental.AUTOTUNE)\n",
    "\n",
    "# Use this dataset in your model training"
   ]
  },
  {
   "cell_type": "code",
   "execution_count": 32,
   "metadata": {
    "colab": {
     "base_uri": "https://localhost:8080/"
    },
    "id": "nqWbkt0q8mFx",
    "outputId": "79cb389e-0340-4860-d9a0-6007e4a28672"
   },
   "outputs": [
    {
     "name": "stdout",
     "output_type": "stream",
     "text": [
      "[0. 1. 1. ... 1. 1. 0.]\n",
      "{0.0: 1463, 1.0: 1463}\n"
     ]
    }
   ],
   "source": [
    "print(y_resampled)\n",
    "unique, counts = np.unique(y_resampled, return_counts=True)\n",
    "print(dict(zip(unique, counts)))"
   ]
  },
  {
   "cell_type": "code",
   "execution_count": 33,
   "metadata": {
    "colab": {
     "base_uri": "https://localhost:8080/"
    },
    "id": "bYy6eM66rK6z",
    "outputId": "8f3d5a44-e2ca-433a-b3ea-5320d9101f2c"
   },
   "outputs": [
    {
     "name": "stdout",
     "output_type": "stream",
     "text": [
      "Found 262 images belonging to 2 classes.\n"
     ]
    }
   ],
   "source": [
    "test_datagen = ImageDataGenerator(rescale = 1./255)\n",
    "test_set = test_datagen.flow_from_directory('Large-image-dataset/testing',\n",
    "                                            target_size = (64, 64),\n",
    "                                            batch_size = 32,\n",
    "                                            class_mode = 'binary')"
   ]
  },
  {
   "cell_type": "code",
   "execution_count": 34,
   "metadata": {
    "id": "S3O7OJlFs0uE"
   },
   "outputs": [],
   "source": [
    "cnn = tf.keras.models.Sequential()"
   ]
  },
  {
   "cell_type": "code",
   "execution_count": 35,
   "metadata": {
    "colab": {
     "base_uri": "https://localhost:8080/"
    },
    "id": "napVRX21sAcs",
    "outputId": "d288ba53-032d-4c75-9156-d6ba4d8ed098"
   },
   "outputs": [],
   "source": [
    "cnn.add(tf.keras.layers.Conv2D(filters=32, kernel_size=3, activation='relu', input_shape=[64, 64, 3]))"
   ]
  },
  {
   "cell_type": "code",
   "execution_count": 36,
   "metadata": {
    "id": "punKs1d2vGui"
   },
   "outputs": [],
   "source": [
    "cnn.add(tf.keras.layers.MaxPool2D(pool_size=2, strides=2))"
   ]
  },
  {
   "cell_type": "code",
   "execution_count": 37,
   "metadata": {
    "id": "Vt0ziLJBvJ0K"
   },
   "outputs": [],
   "source": [
    "cnn.add(tf.keras.layers.Conv2D(filters=32, kernel_size=3, activation='relu'))\n",
    "cnn.add(tf.keras.layers.MaxPool2D(pool_size=2, strides=2))"
   ]
  },
  {
   "cell_type": "code",
   "execution_count": 38,
   "metadata": {
    "id": "eyIaweMbvNWK"
   },
   "outputs": [],
   "source": [
    "cnn.add(tf.keras.layers.Flatten())"
   ]
  },
  {
   "cell_type": "code",
   "execution_count": 39,
   "metadata": {
    "id": "VvQWw76ZvP4O"
   },
   "outputs": [],
   "source": [
    "cnn.add(tf.keras.layers.Dense(units=128, activation='relu'))"
   ]
  },
  {
   "cell_type": "code",
   "execution_count": 40,
   "metadata": {
    "id": "IN5WZFJRvUJ5"
   },
   "outputs": [],
   "source": [
    "cnn.add(tf.keras.layers.Dense(units=1, activation='sigmoid'))"
   ]
  },
  {
   "cell_type": "code",
   "execution_count": 41,
   "metadata": {
    "id": "Zgdcb2myvW1t"
   },
   "outputs": [],
   "source": [
    "cnn.compile(optimizer = 'adam', loss = 'binary_crossentropy', metrics = ['accuracy'])"
   ]
  },
  {
   "cell_type": "code",
   "execution_count": 42,
   "metadata": {
    "colab": {
     "base_uri": "https://localhost:8080/"
    },
    "id": "6yetyas-vaLZ",
    "outputId": "4fcca826-9619-40e1-ce61-259b4f37dcf6"
   },
   "outputs": [
    {
     "name": "stdout",
     "output_type": "stream",
     "text": [
      "Epoch 1/10\n",
      "92/92 [==============================] - 15s 126ms/step - loss: 0.5959 - accuracy: 0.6678 - val_loss: 0.5085 - val_accuracy: 0.7748\n",
      "Epoch 2/10\n",
      "92/92 [==============================] - 8s 89ms/step - loss: 0.3715 - accuracy: 0.8370 - val_loss: 0.4904 - val_accuracy: 0.8130\n",
      "Epoch 3/10\n",
      "92/92 [==============================] - 8s 83ms/step - loss: 0.2444 - accuracy: 0.8978 - val_loss: 0.3628 - val_accuracy: 0.8779\n",
      "Epoch 4/10\n",
      "92/92 [==============================] - 7s 81ms/step - loss: 0.1660 - accuracy: 0.9347 - val_loss: 0.3688 - val_accuracy: 0.9160\n",
      "Epoch 5/10\n",
      "92/92 [==============================] - 7s 77ms/step - loss: 0.1020 - accuracy: 0.9658 - val_loss: 0.3503 - val_accuracy: 0.9313\n",
      "Epoch 6/10\n",
      "92/92 [==============================] - 7s 72ms/step - loss: 0.0650 - accuracy: 0.9781 - val_loss: 0.3263 - val_accuracy: 0.9275\n",
      "Epoch 7/10\n",
      "92/92 [==============================] - 7s 73ms/step - loss: 0.0601 - accuracy: 0.9795 - val_loss: 0.4938 - val_accuracy: 0.8931\n",
      "Epoch 8/10\n",
      "92/92 [==============================] - 6s 71ms/step - loss: 0.0356 - accuracy: 0.9884 - val_loss: 0.4278 - val_accuracy: 0.9237\n",
      "Epoch 9/10\n",
      "92/92 [==============================] - 7s 72ms/step - loss: 0.0387 - accuracy: 0.9867 - val_loss: 0.3578 - val_accuracy: 0.9313\n",
      "Epoch 10/10\n",
      "92/92 [==============================] - 7s 81ms/step - loss: 0.0272 - accuracy: 0.9911 - val_loss: 0.3915 - val_accuracy: 0.9427\n"
     ]
    },
    {
     "data": {
      "text/plain": [
       "<keras.callbacks.History at 0x27773d2feb0>"
      ]
     },
     "execution_count": 42,
     "metadata": {},
     "output_type": "execute_result"
    }
   ],
   "source": [
    "cnn.fit(x = training_set, validation_data = test_set, epochs = 10)"
   ]
  },
  {
   "cell_type": "code",
   "execution_count": 43,
   "metadata": {},
   "outputs": [],
   "source": [
    "cnn.save('final_model.keras')"
   ]
  },
  {
   "cell_type": "markdown",
   "metadata": {},
   "source": [
    "### Model testing"
   ]
  },
  {
   "cell_type": "code",
   "execution_count": 44,
   "metadata": {},
   "outputs": [],
   "source": [
    "from tensorflow.keras.preprocessing import image\n",
    "import numpy as np\n",
    "\n",
    "loaded_model = tf.keras.models.load_model('final_model.keras')"
   ]
  },
  {
   "cell_type": "code",
   "execution_count": 45,
   "metadata": {
    "colab": {
     "base_uri": "https://localhost:8080/"
    },
    "id": "YOHsO33z0MYJ",
    "outputId": "e27069d9-a41a-4cab-e00f-e57f9df1b020"
   },
   "outputs": [
    {
     "name": "stdout",
     "output_type": "stream",
     "text": [
      "1/1 [==============================] - 0s 206ms/step\n",
      "[[2.475035e-21]]\n",
      "No Ball\n"
     ]
    }
   ],
   "source": [
    "# Load the test image\n",
    "test_image = image.load_img('test/legal.jpg', target_size = (64, 64))\n",
    "test_image = image.img_to_array(test_image)\n",
    "test_image = np.expand_dims(test_image, axis = 0)\n",
    "\n",
    "result = loaded_model.predict(test_image)\n",
    "print(result)\n",
    "\n",
    "if result[0][0] == 0:\n",
    "  prediction = 'Legal Ball'\n",
    "else:\n",
    "  prediction = 'No Ball'\n",
    "print(prediction)"
   ]
  },
  {
   "cell_type": "code",
   "execution_count": 46,
   "metadata": {
    "colab": {
     "base_uri": "https://localhost:8080/"
    },
    "id": "h7QKsPFnvOML",
    "outputId": "74d002b0-775f-427f-a71c-4da6188f879d"
   },
   "outputs": [
    {
     "name": "stdout",
     "output_type": "stream",
     "text": [
      "1/1 [==============================] - 0s 38ms/step\n",
      "[[0.]]\n",
      "Legal Ball\n"
     ]
    }
   ],
   "source": [
    "# Load the test image\n",
    "test_image = image.load_img('test/noball_1.jpg', target_size = (64, 64))\n",
    "test_image = image.img_to_array(test_image)\n",
    "test_image = np.expand_dims(test_image, axis = 0)\n",
    "\n",
    "result = loaded_model.predict(test_image)\n",
    "print(result)\n",
    "\n",
    "if result[0][0] == 0:\n",
    "  prediction = 'Legal Ball'\n",
    "else:\n",
    "  prediction = 'No Ball'\n",
    "print(prediction)"
   ]
  },
  {
   "cell_type": "code",
   "execution_count": 47,
   "metadata": {},
   "outputs": [
    {
     "name": "stdout",
     "output_type": "stream",
     "text": [
      "1/1 [==============================] - 0s 44ms/step\n",
      "[[1.]]\n",
      "No Ball\n"
     ]
    }
   ],
   "source": [
    "# Load the test image\n",
    "test_image = image.load_img('test/noball_2.jpg', target_size = (64, 64))\n",
    "test_image = image.img_to_array(test_image)\n",
    "test_image = np.expand_dims(test_image, axis = 0)\n",
    "\n",
    "result = loaded_model.predict(test_image)\n",
    "print(result)\n",
    "\n",
    "if result[0][0] == 0:\n",
    "  prediction = 'Legal Ball'\n",
    "else:\n",
    "  prediction = 'No Ball'\n",
    "print(prediction)"
   ]
  },
  {
   "cell_type": "code",
   "execution_count": 48,
   "metadata": {},
   "outputs": [
    {
     "name": "stdout",
     "output_type": "stream",
     "text": [
      "2.10.0\n"
     ]
    }
   ],
   "source": [
    "print(tf.version.VERSION)"
   ]
  }
 ],
 "metadata": {
  "colab": {
   "provenance": []
  },
  "kernelspec": {
   "display_name": "tensorflow",
   "language": "python",
   "name": "python3"
  },
  "language_info": {
   "codemirror_mode": {
    "name": "ipython",
    "version": 3
   },
   "file_extension": ".py",
   "mimetype": "text/x-python",
   "name": "python",
   "nbconvert_exporter": "python",
   "pygments_lexer": "ipython3",
   "version": "3.10.13"
  }
 },
 "nbformat": 4,
 "nbformat_minor": 0
}
