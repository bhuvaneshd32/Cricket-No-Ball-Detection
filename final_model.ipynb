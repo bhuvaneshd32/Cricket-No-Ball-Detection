{
 "cells": [
  {
   "cell_type": "code",
   "execution_count": 1,
   "metadata": {
    "id": "UNzOR7gXqz-u"
   },
   "outputs": [],
   "source": [
    "import tensorflow as tf\n",
    "import numpy as np\n",
    "from tensorflow.keras.preprocessing.image import DirectoryIterator, ImageDataGenerator"
   ]
  },
  {
   "cell_type": "markdown",
   "metadata": {
    "id": "maB3-fDJx0hk"
   },
   "source": [
    "### Model training"
   ]
  },
  {
   "cell_type": "code",
   "execution_count": 2,
   "metadata": {},
   "outputs": [
    {
     "name": "stdout",
     "output_type": "stream",
     "text": [
      "Found 2225 images belonging to 2 classes.\n"
     ]
    }
   ],
   "source": [
    "training_set = DirectoryIterator(directory = 'Large-image-dataset/training',\n",
    "                                 image_data_generator = ImageDataGenerator(rescale=1.0/255),\n",
    "                                 target_size = (64, 64),\n",
    "                                 batch_size = 32,\n",
    "                                 shuffle = False,  \n",
    "                                 class_mode = 'binary')"
   ]
  },
  {
   "cell_type": "code",
   "execution_count": 3,
   "metadata": {
    "colab": {
     "base_uri": "https://localhost:8080/"
    },
    "id": "SEFaFqYqsND3",
    "outputId": "4a830614-69d4-4ab4-86c4-b97c01be7b04"
   },
   "outputs": [
    {
     "name": "stdout",
     "output_type": "stream",
     "text": [
      "[0 0 0 ... 1 1 1]\n",
      "{'Legal': 762, 'No ball': 1463}\n"
     ]
    }
   ],
   "source": [
    "print(training_set.classes)\n",
    "unique, counts = np.unique(training_set.classes, return_counts=True)\n",
    "print(dict(zip(training_set.class_indices, counts)))"
   ]
  },
  {
   "cell_type": "code",
   "execution_count": 4,
   "metadata": {
    "colab": {
     "base_uri": "https://localhost:8080/"
    },
    "id": "dB_RNEDJ8Bv5",
    "outputId": "653b004d-acc3-45a5-c764-6038fa503297"
   },
   "outputs": [
    {
     "name": "stdout",
     "output_type": "stream",
     "text": [
      "2225\n"
     ]
    }
   ],
   "source": [
    "print(training_set.samples)"
   ]
  },
  {
   "cell_type": "code",
   "execution_count": 5,
   "metadata": {
    "colab": {
     "base_uri": "https://localhost:8080/"
    },
    "id": "6Xg0t4URs1dO",
    "outputId": "49a13376-f8fa-4126-a6b8-2a2c29504842"
   },
   "outputs": [
    {
     "name": "stdout",
     "output_type": "stream",
     "text": [
      "1\n",
      "2\n",
      "3\n",
      "4\n",
      "5\n",
      "6\n",
      "7\n",
      "8\n",
      "9\n",
      "10\n",
      "11\n",
      "12\n",
      "13\n",
      "14\n",
      "15\n",
      "16\n",
      "17\n",
      "18\n",
      "19\n",
      "20\n",
      "21\n",
      "22\n",
      "23\n",
      "24\n",
      "25\n",
      "26\n",
      "27\n",
      "28\n",
      "29\n",
      "30\n",
      "31\n",
      "32\n",
      "33\n",
      "34\n",
      "35\n",
      "36\n",
      "37\n",
      "38\n",
      "39\n",
      "40\n",
      "41\n",
      "42\n",
      "43\n",
      "44\n",
      "45\n",
      "46\n",
      "47\n",
      "48\n",
      "49\n",
      "50\n",
      "51\n",
      "52\n",
      "53\n",
      "54\n",
      "55\n",
      "56\n",
      "57\n",
      "58\n",
      "59\n",
      "60\n",
      "61\n",
      "62\n",
      "63\n",
      "64\n",
      "65\n",
      "66\n",
      "67\n",
      "68\n",
      "69\n",
      "70\n"
     ]
    }
   ],
   "source": [
    "from imblearn.over_sampling import SMOTE\n",
    "from sklearn.utils import shuffle\n",
    "import numpy as np\n",
    "\n",
    "# Initialize empty lists for training data\n",
    "X_train = []\n",
    "y_train = []\n",
    "\n",
    "# Iterate through the training set and collect the data\n",
    "i=1\n",
    "for x, y in training_set:\n",
    "    print(i)\n",
    "    i+=1\n",
    "    X_train.extend(x)\n",
    "    y_train.extend(y)\n",
    "    if len(X_train) >= training_set.samples:\n",
    "        break\n",
    "# Convert the lists into numpy arrays\n",
    "X_train = np.array(X_train)\n",
    "y_train = np.array(y_train)\n",
    "\n",
    "# Reshape the image data to a 2D array (flatten each image)\n",
    "X_train_reshaped = X_train.reshape(X_train.shape[0], -1)\n",
    "\n",
    "# Apply SMOTE to the reshaped training data\n",
    "smote = SMOTE(random_state=42)\n",
    "X_resampled, y_resampled = smote.fit_resample(X_train_reshaped, y_train)\n",
    "\n",
    "# Reshape the resampled data back to its original 4D shape (64x64 images with 3 color channels)\n",
    "X_resampled = X_resampled.reshape(-1, 64, 64, 3)\n",
    "\n",
    "# Shuffle the resampled data\n",
    "X_resampled, y_resampled = shuffle(X_resampled, y_resampled, random_state=42)\n",
    "\n",
    "# Now you have X_resampled and y_resampled with balanced classes\n"
   ]
  },
  {
   "cell_type": "code",
   "execution_count": 6,
   "metadata": {
    "colab": {
     "base_uri": "https://localhost:8080/"
    },
    "id": "eZBerPqo8eXc",
    "outputId": "baa4bed8-ce9a-4002-d816-4fbc46011a84"
   },
   "outputs": [
    {
     "name": "stdout",
     "output_type": "stream",
     "text": [
      "(2926, 64, 64, 3)\n",
      "(2926,)\n"
     ]
    }
   ],
   "source": [
    "print(X_resampled.shape)\n",
    "print(y_resampled.shape)"
   ]
  },
  {
   "cell_type": "code",
   "execution_count": 7,
   "metadata": {
    "id": "AIXJnV7pxKjo"
   },
   "outputs": [],
   "source": [
    "new_datagen = ImageDataGenerator(rescale=1./255)\n",
    "\n",
    "# Create the new training set using the resampled data\n",
    "training_set_resampled = new_datagen.flow(X_resampled, y_resampled, batch_size=32)\n",
    "# Convert X_resampled and y_resampled into a TensorFlow dataset\n",
    "train_dataset = tf.data.Dataset.from_tensor_slices((X_resampled, y_resampled))\n",
    "\n",
    "# Shuffle, batch, and optionally prefetch the data for efficient training\n",
    "training_set_smote = train_dataset.shuffle(buffer_size=1024).batch(32).prefetch(tf.data.experimental.AUTOTUNE)\n",
    "\n",
    "# Use this dataset in your model training"
   ]
  },
  {
   "cell_type": "code",
   "execution_count": 8,
   "metadata": {
    "colab": {
     "base_uri": "https://localhost:8080/"
    },
    "id": "nqWbkt0q8mFx",
    "outputId": "79cb389e-0340-4860-d9a0-6007e4a28672"
   },
   "outputs": [
    {
     "name": "stdout",
     "output_type": "stream",
     "text": [
      "[1. 1. 1. ... 1. 1. 1.]\n",
      "{0.0: 1463, 1.0: 1463}\n"
     ]
    }
   ],
   "source": [
    "print(y_resampled)\n",
    "unique, counts = np.unique(y_resampled, return_counts=True)\n",
    "print(dict(zip(unique, counts)))"
   ]
  },
  {
   "cell_type": "code",
   "execution_count": 9,
   "metadata": {},
   "outputs": [
    {
     "name": "stdout",
     "output_type": "stream",
     "text": [
      "Found 262 images belonging to 2 classes.\n"
     ]
    }
   ],
   "source": [
    "validation_set = DirectoryIterator(directory = 'Large-image-dataset/validation',\n",
    "                                   image_data_generator = ImageDataGenerator(rescale = 1.0/255),\n",
    "                                   target_size = (64, 64),\n",
    "                                   batch_size = 32,\n",
    "                                   shuffle = False,\n",
    "                                   class_mode = 'binary')"
   ]
  },
  {
   "cell_type": "code",
   "execution_count": 10,
   "metadata": {
    "id": "S3O7OJlFs0uE"
   },
   "outputs": [],
   "source": [
    "cnn = tf.keras.models.Sequential()"
   ]
  },
  {
   "cell_type": "code",
   "execution_count": 11,
   "metadata": {
    "colab": {
     "base_uri": "https://localhost:8080/"
    },
    "id": "napVRX21sAcs",
    "outputId": "d288ba53-032d-4c75-9156-d6ba4d8ed098"
   },
   "outputs": [],
   "source": [
    "cnn.add(tf.keras.layers.Conv2D(filters=32, kernel_size=3, activation='relu', input_shape=[64, 64, 3]))\n",
    "cnn.add(tf.keras.layers.MaxPool2D(pool_size=2, strides=2))"
   ]
  },
  {
   "cell_type": "code",
   "execution_count": 12,
   "metadata": {
    "id": "Vt0ziLJBvJ0K"
   },
   "outputs": [],
   "source": [
    "cnn.add(tf.keras.layers.Conv2D(filters=32, kernel_size=3, activation='relu'))\n",
    "cnn.add(tf.keras.layers.MaxPool2D(pool_size=2, strides=2))"
   ]
  },
  {
   "cell_type": "code",
   "execution_count": 13,
   "metadata": {
    "id": "eyIaweMbvNWK"
   },
   "outputs": [],
   "source": [
    "cnn.add(tf.keras.layers.Flatten())\n",
    "cnn.add(tf.keras.layers.Dense(units=128, activation='relu'))\n",
    "cnn.add(tf.keras.layers.Dense(units=1, activation='sigmoid'))"
   ]
  },
  {
   "cell_type": "code",
   "execution_count": 14,
   "metadata": {},
   "outputs": [
    {
     "name": "stdout",
     "output_type": "stream",
     "text": [
      "Model: \"sequential\"\n",
      "_________________________________________________________________\n",
      " Layer (type)                Output Shape              Param #   \n",
      "=================================================================\n",
      " conv2d (Conv2D)             (None, 62, 62, 32)        896       \n",
      "                                                                 \n",
      " max_pooling2d (MaxPooling2D  (None, 31, 31, 32)       0         \n",
      " )                                                               \n",
      "                                                                 \n",
      " conv2d_1 (Conv2D)           (None, 29, 29, 32)        9248      \n",
      "                                                                 \n",
      " max_pooling2d_1 (MaxPooling  (None, 14, 14, 32)       0         \n",
      " 2D)                                                             \n",
      "                                                                 \n",
      " flatten (Flatten)           (None, 6272)              0         \n",
      "                                                                 \n",
      " dense (Dense)               (None, 128)               802944    \n",
      "                                                                 \n",
      " dense_1 (Dense)             (None, 1)                 129       \n",
      "                                                                 \n",
      "=================================================================\n",
      "Total params: 813,217\n",
      "Trainable params: 813,217\n",
      "Non-trainable params: 0\n",
      "_________________________________________________________________\n"
     ]
    }
   ],
   "source": [
    "cnn.summary()"
   ]
  },
  {
   "cell_type": "code",
   "execution_count": 15,
   "metadata": {
    "id": "Zgdcb2myvW1t"
   },
   "outputs": [],
   "source": [
    "cnn.compile(optimizer = 'adam', loss = 'binary_crossentropy', metrics = ['accuracy'])"
   ]
  },
  {
   "cell_type": "code",
   "execution_count": 16,
   "metadata": {
    "colab": {
     "base_uri": "https://localhost:8080/"
    },
    "id": "6yetyas-vaLZ",
    "outputId": "4fcca826-9619-40e1-ce61-259b4f37dcf6"
   },
   "outputs": [
    {
     "name": "stdout",
     "output_type": "stream",
     "text": [
      "Epoch 1/10\n",
      "92/92 [==============================] - 9s 89ms/step - loss: 0.5859 - accuracy: 0.6774 - val_loss: 0.4751 - val_accuracy: 0.7710\n",
      "Epoch 2/10\n",
      "92/92 [==============================] - 6s 68ms/step - loss: 0.3577 - accuracy: 0.8401 - val_loss: 0.3147 - val_accuracy: 0.9122\n",
      "Epoch 3/10\n",
      "92/92 [==============================] - 7s 75ms/step - loss: 0.2139 - accuracy: 0.9170 - val_loss: 0.3498 - val_accuracy: 0.9046\n",
      "Epoch 4/10\n",
      "92/92 [==============================] - 8s 84ms/step - loss: 0.1179 - accuracy: 0.9552 - val_loss: 0.2630 - val_accuracy: 0.9466\n",
      "Epoch 5/10\n",
      "92/92 [==============================] - 7s 73ms/step - loss: 0.0854 - accuracy: 0.9686 - val_loss: 0.2815 - val_accuracy: 0.9504\n",
      "Epoch 6/10\n",
      "92/92 [==============================] - 7s 79ms/step - loss: 0.0505 - accuracy: 0.9853 - val_loss: 0.3961 - val_accuracy: 0.9427\n",
      "Epoch 7/10\n",
      "92/92 [==============================] - 8s 86ms/step - loss: 0.0477 - accuracy: 0.9853 - val_loss: 0.3769 - val_accuracy: 0.9733\n",
      "Epoch 8/10\n",
      "92/92 [==============================] - 10s 110ms/step - loss: 0.0181 - accuracy: 0.9966 - val_loss: 0.3160 - val_accuracy: 0.9504\n",
      "Epoch 9/10\n",
      "92/92 [==============================] - 9s 100ms/step - loss: 0.0143 - accuracy: 0.9973 - val_loss: 0.3333 - val_accuracy: 0.9733\n",
      "Epoch 10/10\n",
      "92/92 [==============================] - 8s 84ms/step - loss: 0.0065 - accuracy: 0.9997 - val_loss: 0.4141 - val_accuracy: 0.9771\n"
     ]
    },
    {
     "data": {
      "text/plain": [
       "<keras.callbacks.History at 0x1652fd75300>"
      ]
     },
     "execution_count": 16,
     "metadata": {},
     "output_type": "execute_result"
    }
   ],
   "source": [
    "cnn.fit(x = training_set_smote, validation_data = validation_set, epochs = 10)"
   ]
  },
  {
   "cell_type": "code",
   "execution_count": 17,
   "metadata": {},
   "outputs": [],
   "source": [
    "cnn.save('final_model.keras')"
   ]
  },
  {
   "cell_type": "markdown",
   "metadata": {},
   "source": [
    "### Model testing"
   ]
  },
  {
   "cell_type": "code",
   "execution_count": 18,
   "metadata": {},
   "outputs": [],
   "source": [
    "from sklearn.metrics import classification_report\n",
    "\n",
    "loaded_model = tf.keras.models.load_model(r'final_model.keras')"
   ]
  },
  {
   "cell_type": "code",
   "execution_count": 19,
   "metadata": {},
   "outputs": [
    {
     "name": "stdout",
     "output_type": "stream",
     "text": [
      "70/70 [==============================] - 18s 251ms/step - loss: 0.0031 - accuracy: 1.0000\n",
      "Training Loss: 0.0030798546504229307\n",
      "Training Accuracy: 1.0\n",
      "70/70 [==============================] - 16s 228ms/step\n",
      "              precision    recall  f1-score   support\n",
      "\n",
      "           0       1.00      1.00      1.00       762\n",
      "           1       1.00      1.00      1.00      1463\n",
      "\n",
      "    accuracy                           1.00      2225\n",
      "   macro avg       1.00      1.00      1.00      2225\n",
      "weighted avg       1.00      1.00      1.00      2225\n",
      "\n"
     ]
    }
   ],
   "source": [
    "loss, accuracy = loaded_model.evaluate(training_set)\n",
    "\n",
    "print(\"Training Loss:\", loss)\n",
    "print(\"Training Accuracy:\", accuracy)\n",
    "\n",
    "y_pred = loaded_model.predict(training_set)\n",
    "y_pred = [1 if i[0] >= 0.5 else 0 for i in y_pred]\n",
    "\n",
    "print(classification_report(training_set.classes.tolist(), y_pred))"
   ]
  },
  {
   "cell_type": "code",
   "execution_count": 20,
   "metadata": {},
   "outputs": [
    {
     "name": "stdout",
     "output_type": "stream",
     "text": [
      "9/9 [==============================] - 2s 226ms/step - loss: 0.4141 - accuracy: 0.9771\n",
      "Validation Loss: 0.4141470193862915\n",
      "Validation Accuracy: 0.9770992398262024\n",
      "9/9 [==============================] - 2s 233ms/step\n",
      "              precision    recall  f1-score   support\n",
      "\n",
      "           0       0.99      0.96      0.98       129\n",
      "           1       0.96      0.99      0.98       133\n",
      "\n",
      "    accuracy                           0.98       262\n",
      "   macro avg       0.98      0.98      0.98       262\n",
      "weighted avg       0.98      0.98      0.98       262\n",
      "\n"
     ]
    }
   ],
   "source": [
    "loss, accuracy = loaded_model.evaluate(validation_set)\n",
    "\n",
    "print(\"Validation Loss:\", loss)\n",
    "print(\"Validation Accuracy:\", accuracy)\n",
    "\n",
    "y_pred = loaded_model.predict(validation_set)\n",
    "y_pred = [1 if i[0] >= 0.5 else 0 for i in y_pred]\n",
    "\n",
    "print(classification_report(validation_set.classes.tolist(), y_pred))"
   ]
  },
  {
   "cell_type": "code",
   "execution_count": 21,
   "metadata": {},
   "outputs": [
    {
     "name": "stdout",
     "output_type": "stream",
     "text": [
      "Found 262 images belonging to 2 classes.\n"
     ]
    }
   ],
   "source": [
    "testing_set = DirectoryIterator(directory = 'Large-image-dataset/testing',\n",
    "                                image_data_generator = ImageDataGenerator(rescale = 1.0/255),\n",
    "                                target_size = (64, 64),\n",
    "                                batch_size = 32,\n",
    "                                shuffle = False,\n",
    "                                class_mode = 'binary')"
   ]
  },
  {
   "cell_type": "code",
   "execution_count": 22,
   "metadata": {},
   "outputs": [
    {
     "name": "stdout",
     "output_type": "stream",
     "text": [
      "9/9 [==============================] - 2s 231ms/step - loss: 0.4141 - accuracy: 0.9771\n",
      "Testing Loss: 0.4141470193862915\n",
      "Testing Accuracy: 0.9770992398262024\n",
      "9/9 [==============================] - 2s 226ms/step\n",
      "              precision    recall  f1-score   support\n",
      "\n",
      "           0       0.99      0.96      0.98       129\n",
      "           1       0.96      0.99      0.98       133\n",
      "\n",
      "    accuracy                           0.98       262\n",
      "   macro avg       0.98      0.98      0.98       262\n",
      "weighted avg       0.98      0.98      0.98       262\n",
      "\n"
     ]
    }
   ],
   "source": [
    "loss, accuracy = loaded_model.evaluate(testing_set)\n",
    "\n",
    "print(\"Testing Loss:\", loss)\n",
    "print(\"Testing Accuracy:\", accuracy)\n",
    "\n",
    "y_pred = loaded_model.predict(testing_set)\n",
    "y_pred = [1 if i[0] >= 0.5 else 0 for i in y_pred]\n",
    "\n",
    "print(classification_report(testing_set.classes.tolist(), y_pred))"
   ]
  },
  {
   "cell_type": "code",
   "execution_count": 23,
   "metadata": {},
   "outputs": [
    {
     "name": "stdout",
     "output_type": "stream",
     "text": [
      "[0, 0, 0, 0, 0, 0, 0, 0, 0, 0, 0, 0, 0, 0, 0, 0, 0, 0, 0, 0, 0, 0, 0, 0, 0, 0, 0, 0, 0, 0, 0, 0, 0, 0, 0, 0, 0, 0, 0, 0, 0, 0, 0, 0, 0, 0, 0, 0, 0, 0, 0, 0, 0, 0, 0, 0, 0, 0, 0, 0, 0, 0, 0, 0, 0, 0, 0, 0, 0, 0, 0, 0, 0, 0, 0, 0, 0, 0, 0, 0, 0, 0, 0, 0, 0, 0, 0, 0, 0, 0, 0, 0, 0, 0, 0, 0, 0, 0, 0, 0, 0, 0, 0, 0, 0, 0, 0, 0, 0, 0, 0, 0, 0, 0, 0, 0, 0, 0, 0, 0, 0, 0, 0, 0, 0, 0, 0, 0, 0, 1, 1, 1, 1, 1, 1, 1, 1, 1, 1, 1, 1, 1, 1, 1, 1, 1, 1, 1, 1, 1, 1, 1, 1, 1, 1, 1, 1, 1, 1, 1, 1, 1, 1, 1, 1, 1, 1, 1, 1, 1, 1, 1, 1, 1, 1, 1, 1, 1, 1, 1, 1, 1, 1, 1, 1, 1, 1, 1, 1, 1, 1, 1, 1, 1, 1, 1, 1, 1, 1, 1, 1, 1, 1, 1, 1, 1, 1, 1, 1, 1, 1, 1, 1, 1, 1, 1, 1, 1, 1, 1, 1, 1, 1, 1, 1, 1, 1, 1, 1, 1, 1, 1, 1, 1, 1, 1, 1, 1, 1, 1, 1, 1, 1, 1, 1, 1, 1, 1, 1, 1, 1, 1, 1, 1, 1, 1, 1, 1, 1, 1, 1, 1]\n",
      "[0, 0, 0, 0, 0, 0, 0, 0, 0, 0, 0, 0, 0, 0, 0, 0, 0, 0, 0, 0, 0, 0, 0, 0, 0, 0, 0, 0, 0, 0, 0, 0, 0, 0, 0, 0, 0, 0, 0, 0, 0, 0, 0, 0, 0, 0, 0, 0, 0, 0, 0, 0, 0, 0, 0, 0, 0, 0, 0, 0, 0, 0, 0, 0, 0, 0, 0, 0, 0, 0, 0, 0, 0, 0, 0, 0, 0, 0, 0, 0, 0, 0, 0, 0, 0, 0, 0, 0, 0, 0, 0, 0, 0, 0, 0, 0, 0, 0, 0, 0, 0, 0, 0, 0, 0, 0, 0, 0, 0, 0, 0, 0, 0, 0, 0, 0, 0, 0, 0, 0, 0, 1, 1, 1, 1, 1, 0, 0, 0, 1, 1, 1, 1, 1, 1, 1, 1, 1, 1, 1, 1, 1, 1, 1, 1, 1, 1, 1, 1, 1, 1, 1, 1, 1, 1, 1, 1, 1, 1, 1, 1, 1, 1, 1, 1, 1, 1, 1, 1, 1, 1, 1, 1, 1, 1, 1, 1, 1, 1, 1, 1, 1, 1, 1, 1, 1, 1, 1, 1, 1, 1, 1, 1, 1, 1, 1, 1, 1, 1, 1, 1, 1, 1, 1, 1, 1, 1, 1, 1, 1, 1, 1, 1, 1, 1, 1, 1, 1, 1, 1, 1, 1, 1, 1, 1, 1, 1, 1, 1, 1, 1, 1, 1, 1, 1, 1, 1, 1, 1, 1, 1, 1, 1, 1, 1, 1, 1, 1, 1, 1, 1, 1, 1, 1, 1, 1, 0, 1, 1, 1, 1, 1]\n"
     ]
    }
   ],
   "source": [
    "print(testing_set.classes.tolist())\n",
    "print(y_pred)"
   ]
  },
  {
   "cell_type": "code",
   "execution_count": 24,
   "metadata": {},
   "outputs": [],
   "source": [
    "from tensorflow.keras.preprocessing import image\n",
    "import numpy as np"
   ]
  },
  {
   "cell_type": "code",
   "execution_count": 25,
   "metadata": {},
   "outputs": [
    {
     "name": "stdout",
     "output_type": "stream",
     "text": [
      "1/1 [==============================] - 0s 185ms/step\n",
      "[[0.]]\n",
      "Legal Ball\n"
     ]
    }
   ],
   "source": [
    "# Load the test image\n",
    "image_location = r'test\\legal.jpg'\n",
    "\n",
    "test_image = image.load_img(image_location, target_size = (64, 64))\n",
    "test_image = image.img_to_array(test_image)\n",
    "test_image = np.expand_dims(test_image, axis = 0)\n",
    "\n",
    "# Now you can use the loaded_model for predictions or further training\n",
    "result = loaded_model.predict(test_image)\n",
    "print(result)\n",
    "\n",
    "if result[0][0] < 0.5:\n",
    "  prediction = 'Legal Ball'\n",
    "else:\n",
    "  prediction = 'No Ball'\n",
    "print(prediction)"
   ]
  },
  {
   "cell_type": "code",
   "execution_count": 26,
   "metadata": {},
   "outputs": [
    {
     "name": "stdout",
     "output_type": "stream",
     "text": [
      "1/1 [==============================] - 0s 30ms/step\n",
      "[[1.]]\n",
      "No Ball\n"
     ]
    }
   ],
   "source": [
    "# Load the test image\n",
    "image_location = r'test\\noball_1.jpg'\n",
    "\n",
    "test_image = image.load_img(image_location, target_size = (64, 64))\n",
    "test_image = image.img_to_array(test_image)\n",
    "test_image = np.expand_dims(test_image, axis = 0)\n",
    "\n",
    "# Now you can use the loaded_model for predictions or further training\n",
    "result = loaded_model.predict(test_image)\n",
    "print(result)\n",
    "\n",
    "if result[0][0] < 0.5:\n",
    "  prediction = 'Legal Ball'\n",
    "else:\n",
    "  prediction = 'No Ball'\n",
    "print(prediction)"
   ]
  },
  {
   "cell_type": "code",
   "execution_count": 27,
   "metadata": {},
   "outputs": [
    {
     "name": "stdout",
     "output_type": "stream",
     "text": [
      "1/1 [==============================] - 0s 29ms/step\n",
      "[[1.]]\n",
      "No Ball\n"
     ]
    }
   ],
   "source": [
    "# Load the test image\n",
    "image_location = r'test\\noball_2.jpg'\n",
    "\n",
    "test_image = image.load_img(image_location, target_size = (64, 64))\n",
    "test_image = image.img_to_array(test_image)\n",
    "test_image = np.expand_dims(test_image, axis = 0)\n",
    "\n",
    "# Now you can use the loaded_model for predictions or further training\n",
    "result = loaded_model.predict(test_image)\n",
    "print(result)\n",
    "\n",
    "if result[0][0] < 0.5:\n",
    "  prediction = 'Legal Ball'\n",
    "else:\n",
    "  prediction = 'No Ball'\n",
    "print(prediction)"
   ]
  },
  {
   "cell_type": "code",
   "execution_count": 28,
   "metadata": {},
   "outputs": [
    {
     "name": "stdout",
     "output_type": "stream",
     "text": [
      "Found 77 images belonging to 2 classes.\n"
     ]
    }
   ],
   "source": [
    "testing_set = DirectoryIterator(directory = 'Small-image-dataset',\n",
    "                                image_data_generator = ImageDataGenerator(rescale = 1.0/255),\n",
    "                                target_size = (64, 64),\n",
    "                                batch_size = 32,\n",
    "                                shuffle = False,\n",
    "                                class_mode = 'binary')"
   ]
  },
  {
   "cell_type": "code",
   "execution_count": 29,
   "metadata": {},
   "outputs": [
    {
     "name": "stdout",
     "output_type": "stream",
     "text": [
      "3/3 [==============================] - 1s 94ms/step - loss: 1.7590 - accuracy: 0.7143\n",
      "Testing Loss: 1.7590413093566895\n",
      "Testing Accuracy: 0.7142857313156128\n",
      "3/3 [==============================] - 1s 81ms/step\n",
      "              precision    recall  f1-score   support\n",
      "\n",
      "           0       0.56      0.56      0.56        25\n",
      "           1       0.79      0.79      0.79        52\n",
      "\n",
      "    accuracy                           0.71        77\n",
      "   macro avg       0.67      0.67      0.67        77\n",
      "weighted avg       0.71      0.71      0.71        77\n",
      "\n"
     ]
    }
   ],
   "source": [
    "loss, accuracy = loaded_model.evaluate(testing_set)\n",
    "\n",
    "print(\"Testing Loss:\", loss)\n",
    "print(\"Testing Accuracy:\", accuracy)\n",
    "\n",
    "y_pred = loaded_model.predict(testing_set)\n",
    "y_pred = [1 if i[0] >= 0.5 else 0 for i in y_pred]\n",
    "\n",
    "print(classification_report(testing_set.classes.tolist(), y_pred))"
   ]
  },
  {
   "cell_type": "code",
   "execution_count": 30,
   "metadata": {},
   "outputs": [
    {
     "name": "stdout",
     "output_type": "stream",
     "text": [
      "Found 10 images belonging to 2 classes.\n"
     ]
    }
   ],
   "source": [
    "testing_set = DirectoryIterator(directory = 'Final-test',\n",
    "                                image_data_generator = ImageDataGenerator(rescale = 1.0/255),\n",
    "                                target_size = (64, 64),\n",
    "                                batch_size = 32,\n",
    "                                shuffle = False,\n",
    "                                class_mode = 'binary')"
   ]
  },
  {
   "cell_type": "code",
   "execution_count": 31,
   "metadata": {},
   "outputs": [
    {
     "name": "stdout",
     "output_type": "stream",
     "text": [
      "1/1 [==============================] - 0s 114ms/step - loss: 0.0105 - accuracy: 1.0000\n",
      "Testing Loss: 0.010458553209900856\n",
      "Testing Accuracy: 1.0\n",
      "1/1 [==============================] - 0s 109ms/step\n",
      "              precision    recall  f1-score   support\n",
      "\n",
      "           0       1.00      1.00      1.00         5\n",
      "           1       1.00      1.00      1.00         5\n",
      "\n",
      "    accuracy                           1.00        10\n",
      "   macro avg       1.00      1.00      1.00        10\n",
      "weighted avg       1.00      1.00      1.00        10\n",
      "\n"
     ]
    }
   ],
   "source": [
    "loss, accuracy = loaded_model.evaluate(testing_set)\n",
    "\n",
    "print(\"Testing Loss:\", loss)\n",
    "print(\"Testing Accuracy:\", accuracy)\n",
    "\n",
    "y_pred = loaded_model.predict(testing_set)\n",
    "y_pred = [1 if i[0] >= 0.5 else 0 for i in y_pred]\n",
    "\n",
    "print(classification_report(testing_set.classes.tolist(), y_pred))"
   ]
  },
  {
   "cell_type": "code",
   "execution_count": 32,
   "metadata": {},
   "outputs": [
    {
     "name": "stdout",
     "output_type": "stream",
     "text": [
      "2.10.0\n"
     ]
    }
   ],
   "source": [
    "print(tf.version.VERSION)"
   ]
  }
 ],
 "metadata": {
  "colab": {
   "provenance": []
  },
  "kernelspec": {
   "display_name": "tensorflow",
   "language": "python",
   "name": "python3"
  },
  "language_info": {
   "codemirror_mode": {
    "name": "ipython",
    "version": 3
   },
   "file_extension": ".py",
   "mimetype": "text/x-python",
   "name": "python",
   "nbconvert_exporter": "python",
   "pygments_lexer": "ipython3",
   "version": "3.10.13"
  }
 },
 "nbformat": 4,
 "nbformat_minor": 0
}
