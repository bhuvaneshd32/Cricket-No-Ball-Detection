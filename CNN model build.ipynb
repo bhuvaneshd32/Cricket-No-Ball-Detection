{
 "cells": [
  {
   "cell_type": "code",
   "execution_count": 32,
   "metadata": {
    "id": "UNzOR7gXqz-u"
   },
   "outputs": [],
   "source": [
    "import tensorflow as tf\n",
    "import numpy as np\n",
    "from tensorflow.keras.preprocessing.image import DirectoryIterator, ImageDataGenerator"
   ]
  },
  {
   "cell_type": "markdown",
   "metadata": {
    "id": "maB3-fDJx0hk"
   },
   "source": [
    "### Model training"
   ]
  },
  {
   "cell_type": "code",
   "execution_count": 33,
   "metadata": {
    "colab": {
     "base_uri": "https://localhost:8080/"
    },
    "id": "zYpZL9O5q6JT",
    "outputId": "5183d390-d3f6-48e9-ae64-9b8aae92cb10"
   },
   "outputs": [
    {
     "name": "stdout",
     "output_type": "stream",
     "text": [
      "Found 2246 images belonging to 2 classes.\n"
     ]
    }
   ],
   "source": [
    "training_set = DirectoryIterator(directory = 'Large-image-dataset/training',\n",
    "                                 image_data_generator = ImageDataGenerator(rescale=1.0/255),\n",
    "                                 target_size = (64, 64),\n",
    "                                 batch_size = 32,\n",
    "                                 shuffle = False,  \n",
    "                                 class_mode = 'binary')"
   ]
  },
  {
   "cell_type": "code",
   "execution_count": 34,
   "metadata": {
    "colab": {
     "base_uri": "https://localhost:8080/"
    },
    "id": "SEFaFqYqsND3",
    "outputId": "e3342adf-3628-4073-96f6-fa27d87b5423"
   },
   "outputs": [
    {
     "name": "stdout",
     "output_type": "stream",
     "text": [
      "[0 0 0 ... 1 1 1]\n",
      "{'Legal': 773, 'No ball': 1473}\n"
     ]
    }
   ],
   "source": [
    "print(training_set.classes)\n",
    "unique, counts = np.unique(training_set.classes, return_counts=True)\n",
    "print(dict(zip(training_set.class_indices, counts)))"
   ]
  },
  {
   "cell_type": "code",
   "execution_count": 35,
   "metadata": {
    "colab": {
     "base_uri": "https://localhost:8080/"
    },
    "id": "dB_RNEDJ8Bv5",
    "outputId": "a2423c5e-3337-4628-c650-6af17196ccd0"
   },
   "outputs": [
    {
     "name": "stdout",
     "output_type": "stream",
     "text": [
      "2246\n"
     ]
    }
   ],
   "source": [
    "print(training_set.samples)"
   ]
  },
  {
   "cell_type": "code",
   "execution_count": 36,
   "metadata": {
    "colab": {
     "base_uri": "https://localhost:8080/"
    },
    "id": "6Xg0t4URs1dO",
    "outputId": "67889900-f355-447a-99c8-2c92c69922a6"
   },
   "outputs": [
    {
     "name": "stdout",
     "output_type": "stream",
     "text": [
      "1\n",
      "2\n",
      "3\n",
      "4\n",
      "5\n",
      "6\n",
      "7\n",
      "8\n",
      "9\n",
      "10\n",
      "11\n",
      "12\n",
      "13\n",
      "14\n",
      "15\n",
      "16\n",
      "17\n",
      "18\n",
      "19\n",
      "20\n",
      "21\n",
      "22\n",
      "23\n",
      "24\n",
      "25\n",
      "26\n",
      "27\n",
      "28\n",
      "29\n",
      "30\n",
      "31\n",
      "32\n",
      "33\n",
      "34\n",
      "35\n",
      "36\n",
      "37\n",
      "38\n",
      "39\n",
      "40\n",
      "41\n",
      "42\n",
      "43\n",
      "44\n",
      "45\n",
      "46\n",
      "47\n",
      "48\n",
      "49\n",
      "50\n",
      "51\n",
      "52\n",
      "53\n",
      "54\n",
      "55\n",
      "56\n",
      "57\n",
      "58\n",
      "59\n",
      "60\n",
      "61\n",
      "62\n",
      "63\n",
      "64\n",
      "65\n",
      "66\n",
      "67\n",
      "68\n",
      "69\n",
      "70\n",
      "71\n"
     ]
    }
   ],
   "source": [
    "from imblearn.over_sampling import SMOTE\n",
    "from sklearn.utils import shuffle\n",
    "import numpy as np\n",
    "\n",
    "# Initialize empty lists for training data\n",
    "X_train = []\n",
    "y_train = []\n",
    "\n",
    "# Iterate through the training set and collect the data\n",
    "i=1\n",
    "for x, y in training_set:\n",
    "    print(i)\n",
    "    i+=1\n",
    "    X_train.extend(x)\n",
    "    y_train.extend(y)\n",
    "    if len(X_train) >= training_set.samples:\n",
    "        break\n",
    "# Convert the lists into numpy arrays\n",
    "X_train = np.array(X_train)\n",
    "y_train = np.array(y_train)\n",
    "\n",
    "# Reshape the image data to a 2D array (flatten each image)\n",
    "X_train_reshaped = X_train.reshape(X_train.shape[0], -1)\n",
    "\n",
    "# Apply SMOTE to the reshaped training data\n",
    "smote = SMOTE(random_state=42)\n",
    "X_resampled, y_resampled = smote.fit_resample(X_train_reshaped, y_train)\n",
    "\n",
    "# Reshape the resampled data back to its original 4D shape (64x64 images with 3 color channels)\n",
    "X_resampled = X_resampled.reshape(-1, 64, 64, 3)\n",
    "\n",
    "# Shuffle the resampled data\n",
    "X_resampled, y_resampled = shuffle(X_resampled, y_resampled, random_state=42)\n",
    "\n",
    "# Now you have X_resampled and y_resampled with balanced classes"
   ]
  },
  {
   "cell_type": "code",
   "execution_count": 37,
   "metadata": {
    "id": "AIXJnV7pxKjo"
   },
   "outputs": [],
   "source": [
    "new_datagen = ImageDataGenerator(rescale=1./255)\n",
    "\n",
    "# Create the new training set using the resampled data\n",
    "training_set_resampled = new_datagen.flow(X_resampled, y_resampled, batch_size=32)\n",
    "# Convert X_resampled and y_resampled into a TensorFlow dataset\n",
    "train_dataset = tf.data.Dataset.from_tensor_slices((X_resampled, y_resampled))\n",
    "\n",
    "# Shuffle, batch, and optionally prefetch the data for efficient training\n",
    "training_set_smote = train_dataset.shuffle(buffer_size=1024).batch(32).prefetch(tf.data.experimental.AUTOTUNE)\n",
    "\n",
    "# Use this dataset in your model training"
   ]
  },
  {
   "cell_type": "code",
   "execution_count": 38,
   "metadata": {
    "colab": {
     "base_uri": "https://localhost:8080/"
    },
    "id": "nqWbkt0q8mFx",
    "outputId": "d728215c-d305-4c54-d1bc-175af7ebaf8d"
   },
   "outputs": [
    {
     "name": "stdout",
     "output_type": "stream",
     "text": [
      "[0. 1. 1. ... 1. 1. 1.]\n",
      "{0.0: 1473, 1.0: 1473}\n"
     ]
    }
   ],
   "source": [
    "print(y_resampled)\n",
    "unique, counts = np.unique(y_resampled, return_counts=True)\n",
    "print(dict(zip(unique, counts)))"
   ]
  },
  {
   "cell_type": "code",
   "execution_count": 39,
   "metadata": {
    "colab": {
     "base_uri": "https://localhost:8080/"
    },
    "id": "QkHcGrAy_Ojp",
    "outputId": "cde4095e-6f01-421a-89f0-020608a5852c"
   },
   "outputs": [
    {
     "name": "stdout",
     "output_type": "stream",
     "text": [
      "Found 262 images belonging to 2 classes.\n"
     ]
    }
   ],
   "source": [
    "validation_set = DirectoryIterator(directory = 'Large-image-dataset/validation',\n",
    "                                   image_data_generator = ImageDataGenerator(rescale = 1.0/255),\n",
    "                                   target_size = (64, 64),\n",
    "                                   batch_size = 32,\n",
    "                                   shuffle = False,\n",
    "                                   class_mode = 'binary')"
   ]
  },
  {
   "cell_type": "code",
   "execution_count": 40,
   "metadata": {
    "id": "S3O7OJlFs0uE"
   },
   "outputs": [],
   "source": [
    "cnn = tf.keras.models.Sequential()"
   ]
  },
  {
   "cell_type": "code",
   "execution_count": 41,
   "metadata": {},
   "outputs": [],
   "source": [
    "cnn.add(tf.keras.layers.Conv2D(filters=64, kernel_size=3, activation='relu', input_shape=(64, 64, 3)))\n",
    "cnn.add(tf.keras.layers.MaxPool2D(pool_size=2, strides=2))"
   ]
  },
  {
   "cell_type": "code",
   "execution_count": 42,
   "metadata": {
    "id": "eyIaweMbvNWK"
   },
   "outputs": [],
   "source": [
    "cnn.add(tf.keras.layers.Flatten())"
   ]
  },
  {
   "cell_type": "code",
   "execution_count": 43,
   "metadata": {
    "id": "VvQWw76ZvP4O"
   },
   "outputs": [],
   "source": [
    "cnn.add(tf.keras.layers.Dense(units=128, activation='relu'))"
   ]
  },
  {
   "cell_type": "code",
   "execution_count": 44,
   "metadata": {
    "id": "IN5WZFJRvUJ5"
   },
   "outputs": [],
   "source": [
    "cnn.add(tf.keras.layers.Dense(units=1, activation='sigmoid'))"
   ]
  },
  {
   "cell_type": "code",
   "execution_count": 45,
   "metadata": {
    "id": "Zgdcb2myvW1t"
   },
   "outputs": [],
   "source": [
    "cnn.compile(optimizer = 'adam', loss = 'binary_crossentropy', metrics = ['accuracy'])"
   ]
  },
  {
   "cell_type": "code",
   "execution_count": 46,
   "metadata": {
    "colab": {
     "base_uri": "https://localhost:8080/"
    },
    "id": "6yetyas-vaLZ",
    "outputId": "4410e22b-1e33-4709-da0e-691c709373c3"
   },
   "outputs": [
    {
     "name": "stdout",
     "output_type": "stream",
     "text": [
      "Epoch 1/10\n",
      "93/93 [==============================] - 11s 99ms/step - loss: 0.5484 - accuracy: 0.7407 - val_loss: 0.3517 - val_accuracy: 0.8702\n",
      "Epoch 2/10\n",
      "93/93 [==============================] - 9s 95ms/step - loss: 0.2316 - accuracy: 0.9019 - val_loss: 0.2750 - val_accuracy: 0.9237\n",
      "Epoch 3/10\n",
      "93/93 [==============================] - 9s 93ms/step - loss: 0.0938 - accuracy: 0.9739 - val_loss: 0.1552 - val_accuracy: 0.9656\n",
      "Epoch 4/10\n",
      "93/93 [==============================] - 9s 94ms/step - loss: 0.0379 - accuracy: 0.9946 - val_loss: 0.1368 - val_accuracy: 0.9733\n",
      "Epoch 5/10\n",
      "93/93 [==============================] - 9s 94ms/step - loss: 0.0165 - accuracy: 0.9983 - val_loss: 0.1566 - val_accuracy: 0.9733\n",
      "Epoch 6/10\n",
      "93/93 [==============================] - 9s 97ms/step - loss: 0.0091 - accuracy: 1.0000 - val_loss: 0.1451 - val_accuracy: 0.9809\n",
      "Epoch 7/10\n",
      "93/93 [==============================] - 9s 98ms/step - loss: 0.0044 - accuracy: 1.0000 - val_loss: 0.1471 - val_accuracy: 0.9847\n",
      "Epoch 8/10\n",
      "93/93 [==============================] - 9s 94ms/step - loss: 0.0026 - accuracy: 1.0000 - val_loss: 0.1552 - val_accuracy: 0.9733\n",
      "Epoch 9/10\n",
      "93/93 [==============================] - 9s 94ms/step - loss: 0.0017 - accuracy: 1.0000 - val_loss: 0.1605 - val_accuracy: 0.9809\n",
      "Epoch 10/10\n",
      "93/93 [==============================] - 9s 93ms/step - loss: 0.0014 - accuracy: 1.0000 - val_loss: 0.1624 - val_accuracy: 0.9809\n"
     ]
    },
    {
     "data": {
      "text/plain": [
       "<keras.callbacks.History at 0x2761ad8fa60>"
      ]
     },
     "execution_count": 46,
     "metadata": {},
     "output_type": "execute_result"
    }
   ],
   "source": [
    "cnn.fit(x = training_set_smote, validation_data = validation_set, epochs = 10)"
   ]
  },
  {
   "cell_type": "code",
   "execution_count": null,
   "metadata": {
    "id": "Rybu9rMaGfpg"
   },
   "outputs": [],
   "source": [
    "cnn.save('final_cnn.keras')"
   ]
  },
  {
   "cell_type": "markdown",
   "metadata": {
    "id": "zf1-MNqyxoHv"
   },
   "source": [
    "### Model testing"
   ]
  },
  {
   "cell_type": "code",
   "execution_count": null,
   "metadata": {},
   "outputs": [],
   "source": [
    "from sklearn.metrics import classification_report\n",
    "\n",
    "loaded_model = tf.keras.models.load_model(r'final_cnn.keras')"
   ]
  },
  {
   "cell_type": "code",
   "execution_count": 49,
   "metadata": {},
   "outputs": [
    {
     "name": "stdout",
     "output_type": "stream",
     "text": [
      "Found 262 images belonging to 2 classes.\n"
     ]
    }
   ],
   "source": [
    "testing_set = DirectoryIterator(directory = 'Large-image-dataset/testing',\n",
    "                                image_data_generator = ImageDataGenerator(rescale = 1.0/255),\n",
    "                                target_size = (64, 64),\n",
    "                                batch_size = 32,\n",
    "                                shuffle = False,\n",
    "                                class_mode = 'binary')"
   ]
  },
  {
   "cell_type": "code",
   "execution_count": 50,
   "metadata": {},
   "outputs": [
    {
     "name": "stdout",
     "output_type": "stream",
     "text": [
      "71/71 [==============================] - 22s 309ms/step - loss: 0.0011 - accuracy: 1.0000\n",
      "Training Loss: 0.0011422070674598217\n",
      "Training Accuracy: 1.0\n",
      "71/71 [==============================] - 22s 311ms/step\n",
      "              precision    recall  f1-score   support\n",
      "\n",
      "           0       1.00      1.00      1.00       773\n",
      "           1       1.00      1.00      1.00      1473\n",
      "\n",
      "    accuracy                           1.00      2246\n",
      "   macro avg       1.00      1.00      1.00      2246\n",
      "weighted avg       1.00      1.00      1.00      2246\n",
      "\n"
     ]
    }
   ],
   "source": [
    "loss, accuracy = loaded_model.evaluate(training_set)\n",
    "\n",
    "print(\"Training Loss:\", loss)\n",
    "print(\"Training Accuracy:\", accuracy)\n",
    "\n",
    "y_pred = loaded_model.predict(training_set)\n",
    "y_pred = [1 if i[0] >= 0.5 else 0 for i in y_pred]\n",
    "\n",
    "print(classification_report(training_set.classes.tolist(), y_pred))"
   ]
  },
  {
   "cell_type": "code",
   "execution_count": 51,
   "metadata": {},
   "outputs": [
    {
     "name": "stdout",
     "output_type": "stream",
     "text": [
      "9/9 [==============================] - 3s 319ms/step - loss: 0.1624 - accuracy: 0.9809\n",
      "Validation Loss: 0.16240660846233368\n",
      "Validation Accuracy: 0.9809160232543945\n",
      "9/9 [==============================] - 3s 300ms/step\n",
      "              precision    recall  f1-score   support\n",
      "\n",
      "           0       0.99      0.97      0.98       129\n",
      "           1       0.97      0.99      0.98       133\n",
      "\n",
      "    accuracy                           0.98       262\n",
      "   macro avg       0.98      0.98      0.98       262\n",
      "weighted avg       0.98      0.98      0.98       262\n",
      "\n"
     ]
    }
   ],
   "source": [
    "loss, accuracy = loaded_model.evaluate(validation_set)\n",
    "\n",
    "print(\"Validation Loss:\", loss)\n",
    "print(\"Validation Accuracy:\", accuracy)\n",
    "\n",
    "y_pred = loaded_model.predict(validation_set)\n",
    "y_pred = [1 if i[0] >= 0.5 else 0 for i in y_pred]\n",
    "\n",
    "print(classification_report(validation_set.classes.tolist(), y_pred))"
   ]
  },
  {
   "cell_type": "code",
   "execution_count": 52,
   "metadata": {
    "colab": {
     "base_uri": "https://localhost:8080/"
    },
    "id": "05ZWeXMq_xAl",
    "outputId": "b8cf331f-abee-4131-d926-0460bb786f95"
   },
   "outputs": [
    {
     "name": "stdout",
     "output_type": "stream",
     "text": [
      "9/9 [==============================] - 3s 319ms/step - loss: 0.1624 - accuracy: 0.9809\n",
      "Testing Loss: 0.16240660846233368\n",
      "Testing Accuracy: 0.9809160232543945\n",
      "9/9 [==============================] - 3s 305ms/step\n",
      "              precision    recall  f1-score   support\n",
      "\n",
      "           0       0.99      0.97      0.98       129\n",
      "           1       0.97      0.99      0.98       133\n",
      "\n",
      "    accuracy                           0.98       262\n",
      "   macro avg       0.98      0.98      0.98       262\n",
      "weighted avg       0.98      0.98      0.98       262\n",
      "\n"
     ]
    }
   ],
   "source": [
    "loss, accuracy = loaded_model.evaluate(testing_set)\n",
    "\n",
    "print(\"Testing Loss:\", loss)\n",
    "print(\"Testing Accuracy:\", accuracy)\n",
    "\n",
    "y_pred = loaded_model.predict(testing_set)\n",
    "y_pred = [1 if i[0] >= 0.5 else 0 for i in y_pred]\n",
    "\n",
    "print(classification_report(testing_set.classes.tolist(), y_pred))"
   ]
  },
  {
   "cell_type": "code",
   "execution_count": 53,
   "metadata": {},
   "outputs": [
    {
     "name": "stdout",
     "output_type": "stream",
     "text": [
      "[0, 0, 0, 0, 0, 0, 0, 0, 0, 0, 0, 0, 0, 0, 0, 0, 0, 0, 0, 0, 0, 0, 0, 0, 0, 0, 0, 0, 0, 0, 0, 0, 0, 0, 0, 0, 0, 0, 0, 0, 0, 0, 0, 0, 0, 0, 0, 0, 0, 0, 0, 0, 0, 0, 0, 0, 0, 0, 0, 0, 0, 0, 0, 0, 0, 0, 0, 0, 0, 0, 0, 0, 0, 0, 0, 0, 0, 0, 0, 0, 0, 0, 0, 0, 0, 0, 0, 0, 0, 0, 0, 0, 0, 0, 0, 0, 0, 0, 0, 0, 0, 0, 0, 0, 0, 0, 0, 0, 0, 0, 0, 0, 0, 0, 0, 0, 0, 0, 0, 0, 0, 0, 0, 0, 0, 0, 0, 0, 0, 1, 1, 1, 1, 1, 1, 1, 1, 1, 1, 1, 1, 1, 1, 1, 1, 1, 1, 1, 1, 1, 1, 1, 1, 1, 1, 1, 1, 1, 1, 1, 1, 1, 1, 1, 1, 1, 1, 1, 1, 1, 1, 1, 1, 1, 1, 1, 1, 1, 1, 1, 1, 1, 1, 1, 1, 1, 1, 1, 1, 1, 1, 1, 1, 1, 1, 1, 1, 1, 1, 1, 1, 1, 1, 1, 1, 1, 1, 1, 1, 1, 1, 1, 1, 1, 1, 1, 1, 1, 1, 1, 1, 1, 1, 1, 1, 1, 1, 1, 1, 1, 1, 1, 1, 1, 1, 1, 1, 1, 1, 1, 1, 1, 1, 1, 1, 1, 1, 1, 1, 1, 1, 1, 1, 1, 1, 1, 1, 1, 1, 1, 1, 1]\n",
      "[0, 0, 0, 0, 0, 0, 0, 0, 0, 0, 0, 0, 0, 0, 0, 0, 0, 0, 0, 0, 0, 0, 0, 0, 0, 0, 0, 0, 0, 0, 0, 0, 0, 0, 0, 0, 0, 0, 0, 0, 0, 0, 0, 0, 0, 0, 0, 0, 0, 0, 0, 0, 0, 0, 0, 0, 0, 0, 0, 0, 0, 0, 0, 0, 0, 0, 0, 0, 0, 0, 0, 0, 0, 0, 0, 0, 0, 0, 0, 0, 0, 0, 0, 0, 0, 0, 0, 0, 0, 0, 0, 0, 0, 0, 0, 0, 0, 0, 0, 0, 0, 0, 0, 0, 0, 0, 0, 0, 0, 0, 0, 0, 0, 0, 0, 0, 0, 0, 0, 0, 0, 1, 1, 0, 1, 1, 0, 0, 0, 1, 1, 1, 1, 1, 1, 1, 1, 1, 1, 1, 1, 1, 1, 1, 1, 1, 1, 1, 1, 1, 1, 1, 1, 1, 1, 1, 1, 1, 1, 1, 1, 1, 1, 1, 1, 1, 1, 1, 1, 1, 1, 1, 1, 1, 1, 1, 1, 1, 1, 1, 1, 1, 1, 1, 1, 1, 1, 1, 1, 1, 1, 1, 1, 1, 1, 1, 1, 1, 1, 1, 1, 1, 1, 1, 1, 1, 1, 1, 1, 1, 1, 1, 1, 1, 1, 1, 1, 1, 1, 1, 1, 1, 1, 1, 1, 1, 1, 1, 1, 1, 1, 1, 1, 1, 1, 1, 1, 1, 1, 1, 1, 1, 1, 1, 1, 1, 1, 1, 1, 1, 1, 1, 1, 1, 1, 1, 1, 1, 0, 1, 1, 1]\n"
     ]
    }
   ],
   "source": [
    "print(testing_set.classes.tolist())\n",
    "print(y_pred)"
   ]
  },
  {
   "cell_type": "code",
   "execution_count": 54,
   "metadata": {},
   "outputs": [],
   "source": [
    "from tensorflow.keras.preprocessing import image\n",
    "import numpy as np"
   ]
  },
  {
   "cell_type": "code",
   "execution_count": 55,
   "metadata": {
    "colab": {
     "base_uri": "https://localhost:8080/"
    },
    "id": "h7QKsPFnvOML",
    "outputId": "64bbc3b8-dd76-462c-ac74-19d941c7f868"
   },
   "outputs": [
    {
     "name": "stdout",
     "output_type": "stream",
     "text": [
      "1/1 [==============================] - 0s 117ms/step\n",
      "[[0.]]\n",
      "Legal Ball\n"
     ]
    }
   ],
   "source": [
    "# Load the test image\n",
    "image_location = r'test\\legal.jpg'\n",
    "\n",
    "test_image = image.load_img(image_location, target_size = (64, 64))\n",
    "test_image = image.img_to_array(test_image)\n",
    "test_image = np.expand_dims(test_image, axis = 0)\n",
    "\n",
    "# Now you can use the loaded_model for predictions or further training\n",
    "result = loaded_model.predict(test_image)\n",
    "print(result)\n",
    "\n",
    "if result[0][0] < 0.5:\n",
    "  prediction = 'Legal Ball'\n",
    "else:\n",
    "  prediction = 'No Ball'\n",
    "print(prediction)"
   ]
  },
  {
   "cell_type": "code",
   "execution_count": 56,
   "metadata": {
    "colab": {
     "base_uri": "https://localhost:8080/"
    },
    "id": "5EyUMR0IwBgI",
    "outputId": "50d169de-e967-41d2-b1eb-37e797801e37"
   },
   "outputs": [
    {
     "name": "stdout",
     "output_type": "stream",
     "text": [
      "1/1 [==============================] - 0s 43ms/step\n",
      "[[1.]]\n",
      "No Ball\n"
     ]
    }
   ],
   "source": [
    "# Load the test image\n",
    "image_location = r'test\\noball_1.jpg'\n",
    "\n",
    "test_image = image.load_img(image_location, target_size = (64, 64))\n",
    "test_image = image.img_to_array(test_image)\n",
    "test_image = np.expand_dims(test_image, axis = 0)\n",
    "\n",
    "# Now you can use the loaded_model for predictions or further training\n",
    "result = loaded_model.predict(test_image)\n",
    "print(result)\n",
    "\n",
    "if result[0][0] < 0.5:\n",
    "  prediction = 'Legal Ball'\n",
    "else:\n",
    "  prediction = 'No Ball'\n",
    "print(prediction)"
   ]
  },
  {
   "cell_type": "code",
   "execution_count": 57,
   "metadata": {},
   "outputs": [
    {
     "name": "stdout",
     "output_type": "stream",
     "text": [
      "1/1 [==============================] - 0s 42ms/step\n",
      "[[1.]]\n",
      "No Ball\n"
     ]
    }
   ],
   "source": [
    "# Load the test image\n",
    "image_location = r'test\\noball_2.jpg'\n",
    "\n",
    "test_image = image.load_img(image_location, target_size = (64, 64))\n",
    "test_image = image.img_to_array(test_image)\n",
    "test_image = np.expand_dims(test_image, axis = 0)\n",
    "\n",
    "# Now you can use the loaded_model for predictions or further training\n",
    "result = loaded_model.predict(test_image)\n",
    "print(result)\n",
    "\n",
    "if result[0][0] < 0.5:\n",
    "  prediction = 'Legal Ball'\n",
    "else:\n",
    "  prediction = 'No Ball'\n",
    "print(prediction)"
   ]
  },
  {
   "cell_type": "code",
   "execution_count": 58,
   "metadata": {},
   "outputs": [
    {
     "name": "stdout",
     "output_type": "stream",
     "text": [
      "Found 77 images belonging to 2 classes.\n"
     ]
    }
   ],
   "source": [
    "testing_set = DirectoryIterator(directory = 'Small-image-dataset',\n",
    "                                image_data_generator = ImageDataGenerator(rescale = 1.0/255),\n",
    "                                target_size = (64, 64),\n",
    "                                batch_size = 32,\n",
    "                                shuffle = False,\n",
    "                                class_mode = 'binary')"
   ]
  },
  {
   "cell_type": "code",
   "execution_count": 59,
   "metadata": {},
   "outputs": [
    {
     "name": "stdout",
     "output_type": "stream",
     "text": [
      "3/3 [==============================] - 1s 106ms/step - loss: 1.7568 - accuracy: 0.7143\n",
      "Testing Loss: 1.7567683458328247\n",
      "Testing Accuracy: 0.7142857313156128\n",
      "3/3 [==============================] - 1s 114ms/step\n",
      "              precision    recall  f1-score   support\n",
      "\n",
      "           0       0.57      0.48      0.52        25\n",
      "           1       0.77      0.83      0.80        52\n",
      "\n",
      "    accuracy                           0.71        77\n",
      "   macro avg       0.67      0.65      0.66        77\n",
      "weighted avg       0.70      0.71      0.71        77\n",
      "\n"
     ]
    }
   ],
   "source": [
    "loss, accuracy = loaded_model.evaluate(testing_set)\n",
    "\n",
    "print(\"Testing Loss:\", loss)\n",
    "print(\"Testing Accuracy:\", accuracy)\n",
    "\n",
    "y_pred = loaded_model.predict(testing_set)\n",
    "y_pred = [1 if i[0] >= 0.5 else 0 for i in y_pred]\n",
    "\n",
    "print(classification_report(testing_set.classes.tolist(), y_pred))"
   ]
  },
  {
   "cell_type": "code",
   "execution_count": 60,
   "metadata": {},
   "outputs": [
    {
     "name": "stdout",
     "output_type": "stream",
     "text": [
      "Found 10 images belonging to 2 classes.\n"
     ]
    }
   ],
   "source": [
    "testing_set = DirectoryIterator(directory = 'Final-test',\n",
    "                                image_data_generator = ImageDataGenerator(rescale = 1.0/255),\n",
    "                                target_size = (64, 64),\n",
    "                                batch_size = 32,\n",
    "                                shuffle = False,\n",
    "                                class_mode = 'binary')"
   ]
  },
  {
   "cell_type": "code",
   "execution_count": 61,
   "metadata": {},
   "outputs": [
    {
     "name": "stdout",
     "output_type": "stream",
     "text": [
      "1/1 [==============================] - 0s 145ms/step - loss: 0.0015 - accuracy: 1.0000\n",
      "Testing Loss: 0.0014626486226916313\n",
      "Testing Accuracy: 1.0\n",
      "1/1 [==============================] - 0s 135ms/step\n",
      "              precision    recall  f1-score   support\n",
      "\n",
      "           0       1.00      1.00      1.00         5\n",
      "           1       1.00      1.00      1.00         5\n",
      "\n",
      "    accuracy                           1.00        10\n",
      "   macro avg       1.00      1.00      1.00        10\n",
      "weighted avg       1.00      1.00      1.00        10\n",
      "\n"
     ]
    }
   ],
   "source": [
    "loss, accuracy = loaded_model.evaluate(testing_set)\n",
    "\n",
    "print(\"Testing Loss:\", loss)\n",
    "print(\"Testing Accuracy:\", accuracy)\n",
    "\n",
    "y_pred = loaded_model.predict(testing_set)\n",
    "y_pred = [1 if i[0] >= 0.5 else 0 for i in y_pred]\n",
    "\n",
    "print(classification_report(testing_set.classes.tolist(), y_pred))"
   ]
  },
  {
   "cell_type": "code",
   "execution_count": 62,
   "metadata": {
    "colab": {
     "base_uri": "https://localhost:8080/"
    },
    "id": "FT7t3eJ_HtLT",
    "outputId": "3bf3b79e-2353-4a99-ac9b-b752b884f9e1"
   },
   "outputs": [
    {
     "name": "stdout",
     "output_type": "stream",
     "text": [
      "2.10.0\n"
     ]
    }
   ],
   "source": [
    "print(tf.version.VERSION)"
   ]
  }
 ],
 "metadata": {
  "colab": {
   "provenance": []
  },
  "kernelspec": {
   "display_name": "tensorflow",
   "language": "python",
   "name": "python3"
  },
  "language_info": {
   "codemirror_mode": {
    "name": "ipython",
    "version": 3
   },
   "file_extension": ".py",
   "mimetype": "text/x-python",
   "name": "python",
   "nbconvert_exporter": "python",
   "pygments_lexer": "ipython3",
   "version": "3.10.13"
  }
 },
 "nbformat": 4,
 "nbformat_minor": 0
}
